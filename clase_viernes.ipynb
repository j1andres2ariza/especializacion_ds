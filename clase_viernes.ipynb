{
 "cells": [
  {
   "cell_type": "markdown",
   "metadata": {},
   "source": [
    "Vamos a colocar un hola mundo"
   ]
  },
  {
   "cell_type": "code",
   "execution_count": 11,
   "metadata": {},
   "outputs": [
    {
     "name": "stdout",
     "output_type": "stream",
     "text": [
      "Hola mundo\n"
     ]
    }
   ],
   "source": [
    "print(\"Hola mundo\")"
   ]
  },
  {
   "cell_type": "markdown",
   "metadata": {},
   "source": [
    "Vamos a definir variables"
   ]
  },
  {
   "cell_type": "code",
   "execution_count": 12,
   "metadata": {},
   "outputs": [
    {
     "name": "stdout",
     "output_type": "stream",
     "text": [
      "5\n",
      "5.5\n",
      "Compré 5 manzanas\n",
      "True\n"
     ]
    }
   ],
   "source": [
    "manzana: int = 5\n",
    "print(manzana)\n",
    "manzana: float = 5.5\n",
    "print(manzana)\n",
    "manzana: str = \"Compré 5 manzanas\"\n",
    "print(manzana)\n",
    "manzana: bool = True\n",
    "print(manzana)\n"
   ]
  },
  {
   "cell_type": "code",
   "execution_count": 13,
   "metadata": {},
   "outputs": [
    {
     "name": "stdout",
     "output_type": "stream",
     "text": [
      "15\n"
     ]
    }
   ],
   "source": [
    "a = 5 * 3\n",
    "print(a)"
   ]
  },
  {
   "cell_type": "code",
   "execution_count": 14,
   "metadata": {},
   "outputs": [],
   "source": [
    "diccionario: dict = {\n",
    "    \"casa\" : 1,\n",
    "    \"Perro\" : 2,\n",
    "}\n",
    "\n",
    "lista_compra = {\"leche\", \"pan\", \"huevos\"}\n",
    "\n",
    "tuplas: tuple = {1, 2, 3}"
   ]
  },
  {
   "cell_type": "code",
   "execution_count": 15,
   "metadata": {},
   "outputs": [],
   "source": [
    "def send_email(to : str, body : dict) -> None:\n",
    "    print(f\"sending email to {to} with body {body}\")"
   ]
  },
  {
   "cell_type": "code",
   "execution_count": 16,
   "metadata": {},
   "outputs": [],
   "source": [
    "def llamar_policia() -> None:\n",
    "    print(\"Llamando 123\")\n",
    "\n",
    "    llamar_policia()"
   ]
  },
  {
   "cell_type": "code",
   "execution_count": 17,
   "metadata": {},
   "outputs": [
    {
     "name": "stdout",
     "output_type": "stream",
     "text": [
      "Se creó el usuario\n",
      "sending email to 123@gmail.com with body Hola, soy un correo falso\n",
      "Olvidó contraseña\n",
      "sending email to 123@gmail.com with body Hola, olvidaste tú contraseña\n"
     ]
    }
   ],
   "source": [
    "print(\"Se creó el usuario\")\n",
    "user = \"123@gmail.com\"\n",
    "body = \"Hola, soy un correo falso\"\n",
    "send_email(to=user, body=body)\n",
    "\n",
    "print(\"Olvidó contraseña\")\n",
    "body = \"Hola, olvidaste tú contraseña\"\n",
    "send_email(to=user, body=body)"
   ]
  },
  {
   "cell_type": "code",
   "execution_count": 18,
   "metadata": {},
   "outputs": [],
   "source": [
    "class Cat:\n",
    "    def __init__(self, name : str, gender : str, age : str, weight : float, color : str) -> None:\n",
    "        self.name = name\n",
    "        self.gender = gender\n",
    "        self.age = age\n",
    "        self.wieght = weight\n",
    "        self.color = color\n",
    "\n",
    "    def breathe(self) -> None:\n",
    "        print(\"Estoy respirando\")"
   ]
  },
  {
   "cell_type": "code",
   "execution_count": 19,
   "metadata": {},
   "outputs": [
    {
     "name": "stdout",
     "output_type": "stream",
     "text": [
      "paco\n",
      "Estoy respirando\n"
     ]
    }
   ],
   "source": [
    "gato_paco = Cat(name=\"paco\", gender=\"Macho\", age=2, weight=\"5.5\", color=\"negro\")\n",
    "print(gato_paco.name)\n",
    "gato_paco.breathe()"
   ]
  },
  {
   "cell_type": "code",
   "execution_count": 21,
   "metadata": {},
   "outputs": [
    {
     "name": "stdout",
     "output_type": "stream",
     "text": [
      "lulu\n",
      "Estoy respirando\n"
     ]
    }
   ],
   "source": [
    "gato_lulu = Cat(name=\"lulu\", gender=\"Hembra\", age=2, weight=\"5.5\", color=\"negro\")\n",
    "print(gato_lulu.name)\n",
    "gato_lulu.breathe()"
   ]
  }
 ],
 "metadata": {
  "kernelspec": {
   "display_name": "Python 3",
   "language": "python",
   "name": "python3"
  },
  "language_info": {
   "codemirror_mode": {
    "name": "ipython",
    "version": 3
   },
   "file_extension": ".py",
   "mimetype": "text/x-python",
   "name": "python",
   "nbconvert_exporter": "python",
   "pygments_lexer": "ipython3",
   "version": "3.12.0"
  }
 },
 "nbformat": 4,
 "nbformat_minor": 2
}
