{
 "cells": [
  {
   "cell_type": "markdown",
   "metadata": {},
   "source": [
    "# Liskov"
   ]
  },
  {
   "cell_type": "code",
   "execution_count": 46,
   "metadata": {},
   "outputs": [],
   "source": [
    "class Empleoyee:\n",
    "    def __init__(self, name: str, age: int, user: str) -> None:\n",
    "        self.name = name\n",
    "        self.age = age\n",
    "        self.user = user\n",
    "        self.salary = 'not_defined'\n",
    "\n",
    "    def generate_salary(self,tipo= 'tipo b') -> int:\n",
    "        if tipo == 'tipo a':\n",
    "            self.salary = 'High_salary'\n",
    "            return 1000\n",
    "        elif tipo == 'tipo b':\n",
    "            self.salary = 'low_salary'\n",
    "            return 2000\n",
    "        elif tipo == 'tipo c':\n",
    "            self.salary = 'Medium_salary'\n",
    "            return 3000"
   ]
  },
  {
   "cell_type": "code",
   "execution_count": 47,
   "metadata": {},
   "outputs": [],
   "source": [
    "class Driver:\n",
    "    def __init__(self, driver: Empleoyee) -> None:\n",
    "        self.driver = driver\n",
    "\n",
    "    def tipo_salary(self,tipo: str) -> int:\n",
    "        return self.driver.generate_salary(tipo =tipo)\n"
   ]
  },
  {
   "cell_type": "code",
   "execution_count": 48,
   "metadata": {},
   "outputs": [
    {
     "name": "stdout",
     "output_type": "stream",
     "text": [
      "2000\n"
     ]
    }
   ],
   "source": [
    "empleoyee1 = Empleoyee(name= 'Juan', age= 20, user= 'juan123')\n",
    "driver_bus = Driver(driver= empleoyee1)\n",
    "print(driver_bus.tipo_salary(tipo= 'tipo b'))"
   ]
  },
  {
   "cell_type": "code",
   "execution_count": 49,
   "metadata": {},
   "outputs": [
    {
     "name": "stdout",
     "output_type": "stream",
     "text": [
      "3000\n"
     ]
    }
   ],
   "source": [
    "print(driver_bus.tipo_salary(tipo= 'tipo c'))"
   ]
  },
  {
   "cell_type": "code",
   "execution_count": 50,
   "metadata": {},
   "outputs": [
    {
     "name": "stdout",
     "output_type": "stream",
     "text": [
      "None\n"
     ]
    }
   ],
   "source": [
    "print(driver_bus.tipo_salary(tipo= 'tipo e'))"
   ]
  },
  {
   "cell_type": "markdown",
   "metadata": {},
   "source": [
    "### Implementación"
   ]
  },
  {
   "cell_type": "code",
   "execution_count": 51,
   "metadata": {},
   "outputs": [],
   "source": [
    "class Manager(Empleoyee):\n",
    "    def __init__(self, name: str, age: int, user: str) -> None:\n",
    "        super().__init__(name, age, user)\n",
    "\n",
    "    def generate_salary(self, tipo= 'tipo c') -> int:\n",
    "        return super().generate_salary(tipo=tipo)"
   ]
  },
  {
   "cell_type": "code",
   "execution_count": 52,
   "metadata": {},
   "outputs": [
    {
     "name": "stdout",
     "output_type": "stream",
     "text": [
      "None\n"
     ]
    }
   ],
   "source": [
    "manager = Manager(name= 'Pedro', age= 30, user= 'pedro123')\n",
    "driver_bus2 = Driver(driver= manager)\n",
    "print(driver_bus2.tipo_salary(tipo= 'tipo d'))"
   ]
  },
  {
   "cell_type": "code",
   "execution_count": 53,
   "metadata": {},
   "outputs": [
    {
     "name": "stdout",
     "output_type": "stream",
     "text": [
      "3000\n"
     ]
    }
   ],
   "source": [
    "print(driver_bus2.tipo_salary(tipo= 'tipo c'))"
   ]
  },
  {
   "cell_type": "code",
   "execution_count": 54,
   "metadata": {},
   "outputs": [
    {
     "name": "stdout",
     "output_type": "stream",
     "text": [
      "2000\n"
     ]
    }
   ],
   "source": [
    "print(driver_bus2.tipo_salary(tipo= 'tipo b'))"
   ]
  },
  {
   "cell_type": "code",
   "execution_count": 57,
   "metadata": {},
   "outputs": [],
   "source": [
    "class Coordinator(Empleoyee):\n",
    "    def __init__(self, name: str, age: int, user: str) -> None:\n",
    "        super().__init__(name, age, user)\n",
    "\n",
    "    def generate_salary(self,tipo= 'tipo c') -> str:\n",
    "        if tipo == 'high_salary':\n",
    "            self.salary = 'tipo a'\n",
    "            return \"10000 dollars\"\n",
    "        elif tipo == 'low_salary':\n",
    "            self.salary = 'tipo b'\n",
    "            return \"6000 dollars\"\n"
   ]
  },
  {
   "cell_type": "code",
   "execution_count": 58,
   "metadata": {},
   "outputs": [
    {
     "name": "stdout",
     "output_type": "stream",
     "text": [
      "6000 dollars\n"
     ]
    }
   ],
   "source": [
    "coordinator = Coordinator(name= 'Maria', age= 25, user= 'maria123')\n",
    "driver_bus3 = Driver(driver= coordinator)\n",
    "print(driver_bus3.tipo_salary(tipo= 'low_salary'))"
   ]
  }
 ],
 "metadata": {
  "kernelspec": {
   "display_name": "Python 3",
   "language": "python",
   "name": "python3"
  },
  "language_info": {
   "codemirror_mode": {
    "name": "ipython",
    "version": 3
   },
   "file_extension": ".py",
   "mimetype": "text/x-python",
   "name": "python",
   "nbconvert_exporter": "python",
   "pygments_lexer": "ipython3",
   "version": "3.12.0"
  }
 },
 "nbformat": 4,
 "nbformat_minor": 2
}
