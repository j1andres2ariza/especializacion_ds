{
 "cells": [
  {
   "cell_type": "markdown",
   "metadata": {},
   "source": [
    "### Ejercicio sin implementación del patrón"
   ]
  },
  {
   "cell_type": "code",
   "execution_count": 15,
   "metadata": {},
   "outputs": [],
   "source": [
    "class Bill:\n",
    "    def __init__(self, type_buy: str, items: list, cost: float) -> None:\n",
    "        self.type_buy: str = type_buy\n",
    "        self.items: list = items\n",
    "        self.cost: float = cost\n",
    "\n",
    "    def get_cost_total(self) -> float:\n",
    "        total = sum([item['price'] for item in self.items])\n",
    "        return total\n",
    "\n",
    "    def get_tax(self) -> float:\n",
    "        total_tax = sum([item[\"tax\"] for item in self.items])\n",
    "        return total_tax\n",
    "\n",
    "    def get_cost_bill(self) -> float:\n",
    "        if self.type_buy == \"virtual\":\n",
    "            if self.get_cost_total() >200:\n",
    "                return 0\n",
    "            return 2.5 * self.get_tax()\n",
    "        elif self.type_buy == \"upon delivery\":\n",
    "            return 5 * self.get_tax()\n",
    "        return 0"
   ]
  },
  {
   "cell_type": "code",
   "execution_count": 16,
   "metadata": {},
   "outputs": [
    {
     "name": "stdout",
     "output_type": "stream",
     "text": [
      "Total bill:  220\n",
      "Total_tax: 0.48\n",
      "Cost bill:  2.4\n"
     ]
    }
   ],
   "source": [
    "data_bill: dict = [{\"price\": 150, \"tax\": 0.16}, {\"price\": 20, \"tax\": 0.16}, {\"price\": 50, \"tax\": 0.16}]\n",
    "bill: Bill = Bill(type_buy=\"upon delivery\", items=data_bill, cost=190)\n",
    "print(\"Total bill: \", bill.get_cost_total())\n",
    "print(\"Total_tax:\", bill.get_tax())\n",
    "print(\"Cost bill: \", bill.get_cost_bill())"
   ]
  },
  {
   "cell_type": "code",
   "execution_count": 17,
   "metadata": {},
   "outputs": [
    {
     "name": "stdout",
     "output_type": "stream",
     "text": [
      "Total bill:  270\n",
      "Total_tax: 0.48\n",
      "Cost bill:  0\n"
     ]
    }
   ],
   "source": [
    "data_bill2: dict = [{\"price\": 200, \"tax\": 0.16}, {\"price\": 20, \"tax\": 0.16}, {\"price\": 50, \"tax\": 0.16}]\n",
    "bill2: Bill = Bill(type_buy=\"virtual\", items=data_bill2, cost=190)\n",
    "print(\"Total bill: \", bill2.get_cost_total())\n",
    "print(\"Total_tax:\", bill2.get_tax())\n",
    "print(\"Cost bill: \", bill2.get_cost_bill())"
   ]
  },
  {
   "cell_type": "markdown",
   "metadata": {},
   "source": [
    "### Implementación correscta usando **Strategy**"
   ]
  },
  {
   "cell_type": "markdown",
   "metadata": {},
   "source": [
    "##### Usando una interface"
   ]
  },
  {
   "cell_type": "code",
   "execution_count": 41,
   "metadata": {},
   "outputs": [],
   "source": [
    "from abc import ABC, abstractmethod\n",
    "\n",
    "class Reference(ABC):\n",
    "    @abstractmethod\n",
    "    def get_cost(self, bill: Bill) -> float:\n",
    "        pass\n",
    "\n",
    "class VirtualBill(Reference):\n",
    "    def get_cost(self, bill: Bill) -> float:\n",
    "        if bill.get_cost_total() >200:\n",
    "            return 0\n",
    "        return 2.5 * bill.get_tax()\n",
    "\n",
    "class Upon_Delivery_Bill(Reference):\n",
    "    def get_cost(self, bill: Bill) -> float:\n",
    "        return 5 * bill.get_tax()\n",
    "\n",
    "class Bill:\n",
    "    def __init__(self, reference: Reference, items: list, cost: float) -> None:\n",
    "        self.reference: Reference = reference\n",
    "        self.items: list = items\n",
    "        self.cost: float = cost\n",
    "\n",
    "    def get_cost_total(self) -> float:\n",
    "        total = sum([item['price'] for item in self.items])\n",
    "        return total\n",
    "\n",
    "    def get_tax(self) -> float:\n",
    "        total_tax = sum([item[\"tax\"] for item in self.items])\n",
    "        return total_tax\n",
    "\n",
    "    def get_cost_bill(self) -> float:\n",
    "        return self.reference.get_cost(self)"
   ]
  },
  {
   "cell_type": "code",
   "execution_count": 42,
   "metadata": {},
   "outputs": [
    {
     "name": "stdout",
     "output_type": "stream",
     "text": [
      "Total bill:  220\n",
      "Total tax: 0.48\n",
      "Cost bill:  2.4\n"
     ]
    }
   ],
   "source": [
    "data_bill: dict = [{\"price\": 150, \"tax\": 0.16}, {\"price\": 20, \"tax\": 0.16}, {\"price\": 50, \"tax\": 0.16}]\n",
    "bill: Bill = Bill(reference=Upon_Delivery_Bill(), items=data_bill, cost=190)\n",
    "print(\"Total bill: \", bill.get_cost_total())\n",
    "print(\"Total tax:\", bill.get_tax())\n",
    "print(\"Cost bill: \", bill.get_cost_bill())"
   ]
  },
  {
   "cell_type": "code",
   "execution_count": 43,
   "metadata": {},
   "outputs": [
    {
     "name": "stdout",
     "output_type": "stream",
     "text": [
      "Total bill:  270\n",
      "Total tax: 0.48\n",
      "Cost bill:  0\n"
     ]
    }
   ],
   "source": [
    "data_bill2: dict = [{\"price\": 200, \"tax\": 0.16}, {\"price\": 20, \"tax\": 0.16}, {\"price\": 50, \"tax\": 0.16}]\n",
    "bill2: Bill = Bill(reference=VirtualBill(), items=data_bill2, cost=190)\n",
    "print(\"Total bill: \", bill2.get_cost_total())\n",
    "print(\"Total tax:\", bill2.get_tax())\n",
    "print(\"Cost bill: \", bill2.get_cost_bill())"
   ]
  },
  {
   "cell_type": "markdown",
   "metadata": {},
   "source": [
    "Nuevo método"
   ]
  },
  {
   "cell_type": "code",
   "execution_count": 44,
   "metadata": {},
   "outputs": [],
   "source": [
    "class Send_Bill(Reference):\n",
    "    def get_cost(self, bill: Bill) -> float:\n",
    "        return 7 * bill.get_tax()"
   ]
  },
  {
   "cell_type": "code",
   "execution_count": 45,
   "metadata": {},
   "outputs": [
    {
     "name": "stdout",
     "output_type": "stream",
     "text": [
      "Total bill:  270\n",
      "Total tax: 0.48\n",
      "Cost bill:  3.36\n"
     ]
    }
   ],
   "source": [
    "data_bill3: dict = [{\"price\": 200, \"tax\": 0.16}, {\"price\": 20, \"tax\": 0.16}, {\"price\": 50, \"tax\": 0.16}]\n",
    "bill3: Bill = Bill(reference=Send_Bill(), items=data_bill3, cost=190)\n",
    "print(\"Total bill: \", bill3.get_cost_total())\n",
    "print(\"Total tax:\", bill3.get_tax())\n",
    "print(\"Cost bill: \", bill3.get_cost_bill())"
   ]
  }
 ],
 "metadata": {
  "kernelspec": {
   "display_name": "Python 3",
   "language": "python",
   "name": "python3"
  },
  "language_info": {
   "codemirror_mode": {
    "name": "ipython",
    "version": 3
   },
   "file_extension": ".py",
   "mimetype": "text/x-python",
   "name": "python",
   "nbconvert_exporter": "python",
   "pygments_lexer": "ipython3",
   "version": "3.12.0"
  }
 },
 "nbformat": 4,
 "nbformat_minor": 2
}
