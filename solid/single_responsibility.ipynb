{
 "cells": [
  {
   "cell_type": "markdown",
   "metadata": {},
   "source": [
    "# Single Responsibility Principle\n",
    "\n",
    "Una clase debe tener una sola razón para cambiar, es decir, una clase debe tener una sola responsabilidad."
   ]
  },
  {
   "cell_type": "markdown",
   "metadata": {},
   "source": [
    "La clase `Empleado` tiene varias razones para cambiar. La primera razón puede estar relacionada con el trabajo principal de la clase: calcular el salario de un empleado, lo cual puede cambiar con el tiempo, lo que te obliga a cambiar el código de la clase. Segundo, la función para imprimir el recibo de pago también puede cambiar con el tiempo, lo que te obliga a cambiar el código de la clase. Por lo tanto, la clase `Empleado` tiene más de una responsabilidad."
   ]
  },
  {
   "cell_type": "markdown",
   "metadata": {},
   "source": [
    "**ANTES:** La clase contiene la lógica de cálculo del salario y la lógica de impresión del recibo de salario.\n"
   ]
  },
  {
   "cell_type": "code",
   "execution_count": 3,
   "metadata": {},
   "outputs": [],
   "source": [
    "class Employee:\n",
    "    def __init__(self, name: str, hours_worked: int, hourly_rate: float) -> None:\n",
    "        self.name: str = name\n",
    "        self.hours_worked: int = hours_worked\n",
    "        self.hourly_rate: float = hourly_rate\n",
    "\n",
    "    def get_name(self) -> str:\n",
    "        return self.name\n",
    "\n",
    "    def calculate_pay(self) -> str:\n",
    "        return self.hours_worked * self.hourly_rate\n",
    "\n",
    "    def get_tax_rate(self) -> float:\n",
    "        return 0.80 * self.calculate_pay()\n",
    "\n",
    "    def print_pay_stub(self) -> None:\n",
    "        print(\"Pay Stub\")\n",
    "        print(\"Name: \", self.get_name())\n",
    "        print(\"Hours Worked: \", self.hours_worked)\n",
    "        print(\"Hourly Rate: \", self.hourly_rate)\n",
    "        print(\"Gross Pay: \", self.get_tax_rate())"
   ]
  },
  {
   "cell_type": "code",
   "execution_count": 4,
   "metadata": {},
   "outputs": [
    {
     "name": "stdout",
     "output_type": "stream",
     "text": [
      "Pay Stub\n",
      "Name:  John\n",
      "Hours Worked:  40\n",
      "Hourly Rate:  10\n",
      "Gross Pay:  320.0\n"
     ]
    }
   ],
   "source": [
    "employee = Employee(name=\"John\", hours_worked=40, hourly_rate=10)\n",
    "employee.print_pay_stub()"
   ]
  },
  {
   "cell_type": "markdown",
   "metadata": {},
   "source": [
    "Resuelve el problema moviendo el comportamiento relacionado con la impresión de informes de horas de trabajo y el cálculo del salario a una clase separada. Este cambio te permite mover otros elementos relacionados con el informe a la nueva clase."
   ]
  },
  {
   "cell_type": "markdown",
   "metadata": {},
   "source": [
    "**DESPUÉS:** La clase `Empleado` ahora tiene una sola responsabilidad: almacenar los datos del empleado. La clase `Reporte` se encarga de la impresión del recibo de salario y el cálculo del salario."
   ]
  },
  {
   "cell_type": "code",
   "execution_count": 8,
   "metadata": {},
   "outputs": [],
   "source": [
    "class Employee:\n",
    "    def __init__(self, name: str, hours_worked: int, hourly_rate: float) -> None:\n",
    "        self.name: str = name\n",
    "        self.hours_worked: int = hours_worked\n",
    "        self.hourly_rate: float = hourly_rate\n",
    "\n",
    "    def get_name(self) -> str:\n",
    "        return self.name\n",
    "\n",
    "\n",
    "class Report:\n",
    "    def __init__(self, employee: Employee) -> None:\n",
    "        self.employee: Employee = employee\n",
    "\n",
    "    def calculate_pay(self) -> str:\n",
    "        return self.employee.hours_worked * self.employee.hourly_rate\n",
    "\n",
    "    def print_pay_stub(self) -> None:\n",
    "        print(\"Pay Stub\")\n",
    "        print(\"Name: \", self.employee.get_name())\n",
    "        print(\"Hours Worked: \", self.employee.hours_worked)\n",
    "        print(\"Hourly Rate: \", self.employee.hourly_rate)\n",
    "        print(\"Gross Pay: \", self.calculate_pay())"
   ]
  },
  {
   "cell_type": "code",
   "execution_count": 10,
   "metadata": {},
   "outputs": [
    {
     "name": "stdout",
     "output_type": "stream",
     "text": [
      "Pay Stub\n",
      "Name:  John\n",
      "Hours Worked:  40\n",
      "Hourly Rate:  10\n",
      "Gross Pay:  400\n"
     ]
    }
   ],
   "source": [
    "employee = Employee(name=\"John\", hours_worked=40, hourly_rate=10)\n",
    "report = Report(employee=employee)\n",
    "report.print_pay_stub()"
   ]
  },
  {
   "cell_type": "code",
   "execution_count": 11,
   "metadata": {},
   "outputs": [
    {
     "name": "stdout",
     "output_type": "stream",
     "text": [
      "Pay Stub\n",
      "Name:  Juanito\n",
      "Hours Worked:  50\n",
      "Hourly Rate:  10\n",
      "Gross Pay:  500\n"
     ]
    }
   ],
   "source": [
    "juanito = Employee(name=\"Juanito\", hours_worked=50, hourly_rate=10)\n",
    "report_juanito = Report(employee=juanito)\n",
    "report_juanito.print_pay_stub()"
   ]
  },
  {
   "cell_type": "markdown",
   "metadata": {},
   "source": [
    "De esta forma, si necesitas cambiar la lógica de cálculo del salario, solo necesitas cambiar la clase `Reporte`. Si necesitas cambiar la lógica de impresión del recibo de salario, solo necesitas cambiar la clase `Reporte`. Por lo tanto, la clase `Empleado` tiene una sola responsabilidad y no necesita cambiar si cambia la lógica de cálculo del salario o la lógica de impresión del recibo de salario."
   ]
  }
 ],
 "metadata": {
  "kernelspec": {
   "display_name": ".venv",
   "language": "python",
   "name": "python3"
  },
  "language_info": {
   "codemirror_mode": {
    "name": "ipython",
    "version": 3
   },
   "file_extension": ".py",
   "mimetype": "text/x-python",
   "name": "python",
   "nbconvert_exporter": "python",
   "pygments_lexer": "ipython3",
   "version": "3.12.0"
  }
 },
 "nbformat": 4,
 "nbformat_minor": 2
}
