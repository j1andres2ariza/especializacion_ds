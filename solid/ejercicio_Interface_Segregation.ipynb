{
 "cells": [
  {
   "cell_type": "code",
   "execution_count": 9,
   "metadata": {},
   "outputs": [],
   "source": [
    "from abc import ABC, abstractmethod\n",
    "\n",
    "class Distributor_Products(ABC):\n",
    "    @abstractmethod\n",
    "    def orders(self, id):\n",
    "        pass\n",
    "\n",
    "    @abstractmethod\n",
    "    def refund_orders(self, id):\n",
    "        pass\n",
    "\n",
    "    @abstractmethod\n",
    "    def create_order(self, ciudad):\n",
    "        pass\n",
    "\n",
    "    @abstractmethod\n",
    "    def list_order(self, ciudad):\n",
    "        pass\n",
    "\n",
    "    @abstractmethod\n",
    "    def get_dir(self):\n",
    "        pass\n"
   ]
  },
  {
   "cell_type": "code",
   "execution_count": 10,
   "metadata": {},
   "outputs": [],
   "source": [
    "class Olimpica(Distributor_Products):\n",
    "    def orders(self, id):\n",
    "        print(f\"Pedido {id} entregado\")\n",
    "\n",
    "    def refund_orders(self, id):\n",
    "        print(f\"Pedido {id} devuelto\")\n",
    "\n",
    "    def create_order(self, ciudad):\n",
    "        print(f\"Pedido en {ciudad} creado\")\n",
    "\n",
    "    def list_order(self, ciudad):\n",
    "        print(f\"Pedidos en {ciudad} listados\")\n",
    "\n",
    "    def get_dir(self):\n",
    "        print(\"Dirección de Olimpica: Calle 1234\")"
   ]
  },
  {
   "cell_type": "code",
   "execution_count": 11,
   "metadata": {},
   "outputs": [],
   "source": [
    "class Exito(Distributor_Products):\n",
    "    def orders(self, id):\n",
    "        print(f\"Pedido {id} entregado\")\n",
    "\n",
    "    def refund_orders(self, id):\n",
    "        print(f\"Pedido {id} devuelto\")\n",
    "\n",
    "    def create_order(self, ciudad):\n",
    "        print(f\"Pedido en {ciudad} creado\")\n",
    "\n",
    "    def list_order(self, ciudad):\n",
    "        pass #No recomendado\n",
    "\n",
    "    def get_dir(self):\n",
    "        pass"
   ]
  },
  {
   "cell_type": "markdown",
   "metadata": {},
   "source": [
    "## Después"
   ]
  },
  {
   "cell_type": "code",
   "execution_count": 12,
   "metadata": {},
   "outputs": [],
   "source": [
    "class OrderManagement(ABC):\n",
    "    @abstractmethod\n",
    "    def create_order(self, ciudad):\n",
    "        pass\n",
    "\n",
    "    def list_order(self, ciudad):\n",
    "        pass\n",
    "\n",
    "class InfoDistributor(ABC):\n",
    "    @abstractmethod\n",
    "    def get_dir(self):\n",
    "        pass\n",
    "\n",
    "class Management(ABC):\n",
    "    @abstractmethod\n",
    "    def orders(self, id):\n",
    "        pass\n",
    "\n",
    "    @abstractmethod\n",
    "    def refund_orders(self, id):\n",
    "        pass"
   ]
  },
  {
   "cell_type": "code",
   "execution_count": 13,
   "metadata": {},
   "outputs": [],
   "source": [
    "class Olimpica(OrderManagement, InfoDistributor, Management):\n",
    "    def orders(self, id):\n",
    "        print(f\"Pedido {id} entregado\")\n",
    "\n",
    "    def refund_orders(self, id):\n",
    "        print(f\"Pedido {id} devuelto\")\n",
    "\n",
    "    def create_order(self, ciudad):\n",
    "        print(f\"Pedido en {ciudad} creado\")\n",
    "\n",
    "    def list_order(self, ciudad):\n",
    "        print(f\"Pedidos en {ciudad} listados\")\n",
    "\n",
    "    def get_dir(self):\n",
    "        print(\"Dirección de Olimpica: Calle 1234\")"
   ]
  },
  {
   "cell_type": "code",
   "execution_count": 14,
   "metadata": {},
   "outputs": [],
   "source": [
    "class Exito(Management):\n",
    "    def orders(self, id):\n",
    "        print(f\"Pedido {id} entregado\")\n",
    "\n",
    "    def refund_orders(self, id):\n",
    "        print(f\"Pedido {id} devuelto\")\n",
    "\n",
    "    def create_order(self, ciudad):\n",
    "        print(f\"Pedido en {ciudad} creado\")"
   ]
  }
 ],
 "metadata": {
  "kernelspec": {
   "display_name": "Python 3",
   "language": "python",
   "name": "python3"
  },
  "language_info": {
   "codemirror_mode": {
    "name": "ipython",
    "version": 3
   },
   "file_extension": ".py",
   "mimetype": "text/x-python",
   "name": "python",
   "nbconvert_exporter": "python",
   "pygments_lexer": "ipython3",
   "version": "3.12.0"
  }
 },
 "nbformat": 4,
 "nbformat_minor": 2
}
