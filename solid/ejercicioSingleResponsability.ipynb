{
 "cells": [
  {
   "cell_type": "markdown",
   "metadata": {},
   "source": [
    "### Inplemtación sin el principio aplicado"
   ]
  },
  {
   "cell_type": "code",
   "execution_count": 47,
   "metadata": {},
   "outputs": [],
   "source": [
    "class Vehicles:\n",
    "    def __init__(self, brand: str, model: str, year: int, cost: float, impuesto: float) -> None:\n",
    "        self.brand: str = brand\n",
    "        self.model: str = model\n",
    "        self.year: int = year\n",
    "        self.cost: float = cost\n",
    "        self.impuesto: float  = impuesto\n",
    "\n",
    "\n",
    "\n",
    "    def get_model(self) -> str:\n",
    "            return self.model\n",
    "\n",
    "    def calculate_tax(self) -> float:\n",
    "            return self.cost * self.impuesto\n",
    "\n",
    "    def calculate_cost_total(self) -> float:\n",
    "            return self.cost + self.calculate_tax()\n",
    "\n",
    "    def print_info_car(self) -> None:\n",
    "        print(\"Info_Car: \")\n",
    "        print(\"Brand: \", self.get_model())\n",
    "        print(\"Year: \", self.year)\n",
    "        print(\"Cost =\", self.cost)\n",
    "        print(\"Tax =\", self.calculate_tax())\n",
    "        print(\"Total cost\", self.calculate_cost_total())"
   ]
  },
  {
   "cell_type": "code",
   "execution_count": 48,
   "metadata": {},
   "outputs": [
    {
     "name": "stdout",
     "output_type": "stream",
     "text": [
      "Info_Car: \n",
      "Brand:  Corolla\n",
      "Year:  2015\n",
      "Cost = 10000\n",
      "Tax = 1600.0\n",
      "Total cost 11600.0\n"
     ]
    }
   ],
   "source": [
    "car1 = Vehicles(brand=\"Toyota\", model=\"Corolla\", year=2015, cost=10000, impuesto=0.16)\n",
    "car1.print_info_car()"
   ]
  },
  {
   "cell_type": "markdown",
   "metadata": {},
   "source": [
    "### Implementación correcta"
   ]
  },
  {
   "cell_type": "code",
   "execution_count": 51,
   "metadata": {},
   "outputs": [],
   "source": [
    "class Vehicles:\n",
    "    def __init__(self, brand: str, model: str, year: int, cost: float, impuesto: float) -> None:\n",
    "        self.brand: str = brand\n",
    "        self.model: str = model\n",
    "        self.year: int = year\n",
    "        self.cost: float = cost\n",
    "        self.impuesto: float  = impuesto\n",
    "\n",
    "    def get_model(self) -> str:\n",
    "            return self.model\n",
    "\n",
    "class Report:\n",
    "    def __init__(self, vehicle: Vehicles ) -> None:\n",
    "        self.vehicle: Vehicles = vehicle\n",
    "\n",
    "    def calculate_tax(self) -> float:\n",
    "        return self.vehicle.cost * self.vehicle.impuesto\n",
    "\n",
    "    def calculate_cost_total(self) -> float:\n",
    "        return self.vehicle.cost + self.calculate_tax()\n",
    "\n",
    "    def print_info_vehicle(self) -> None:\n",
    "        print(\"Info_Vehicle: \")\n",
    "        print(\"Brand: \", self.vehicle.get_model())\n",
    "        print(\"Year: \", self.vehicle.year)\n",
    "        print(\"Cost =\", self.vehicle.cost)\n",
    "        print(\"Tax =\", self.calculate_tax())\n",
    "        print(\"Total cost\", self.vehicle.cost + self.calculate_tax())"
   ]
  },
  {
   "cell_type": "code",
   "execution_count": 52,
   "metadata": {},
   "outputs": [
    {
     "name": "stdout",
     "output_type": "stream",
     "text": [
      "Info_Vehicle: \n",
      "Brand:  Corolla\n",
      "Year:  2015\n",
      "Cost = 10000\n",
      "Tax = 1600.0\n",
      "Total cost 11600.0\n"
     ]
    }
   ],
   "source": [
    "vehicle = Vehicles(brand=\"Toyota\", model=\"Corolla\", year=2015, cost=10000, impuesto=0.16)\n",
    "report = Report(vehicle=vehicle)\n",
    "report.print_info_vehicle()"
   ]
  }
 ],
 "metadata": {
  "kernelspec": {
   "display_name": "Python 3",
   "language": "python",
   "name": "python3"
  },
  "language_info": {
   "codemirror_mode": {
    "name": "ipython",
    "version": 3
   },
   "file_extension": ".py",
   "mimetype": "text/x-python",
   "name": "python",
   "nbconvert_exporter": "python",
   "pygments_lexer": "ipython3",
   "version": "3.12.0"
  }
 },
 "nbformat": 4,
 "nbformat_minor": 2
}
