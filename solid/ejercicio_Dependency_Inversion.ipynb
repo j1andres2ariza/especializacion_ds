{
 "cells": [
  {
   "cell_type": "code",
   "execution_count": 1,
   "metadata": {},
   "outputs": [],
   "source": [
    "#bajo nivel\n",
    "class PostgresSQLDatabase:\n",
    "    def __init__(self):\n",
    "        self.__connection = None\n",
    "\n",
    "    def insert(self, query):\n",
    "        print(f\"Inserting {query}\")\n",
    "\n",
    "    def update(self, query):\n",
    "        print(f\"Updating {query}\")\n",
    "\n",
    "    def delete(self, query):\n",
    "        print(f\"Deleting {query}\")\n",
    "\n",
    "class OrderReport:\n",
    "    def __init__(self):\n",
    "        self.__database = PostgresSQLDatabase()\n",
    "\n",
    "    def generate_new_order(self):\n",
    "        self.__database.insert(\"New order\")\n",
    "\n",
    "    def save_order(self):\n",
    "        self.__database.update(\"Order saved\")\n",
    "\n",
    "\n"
   ]
  },
  {
   "cell_type": "code",
   "execution_count": 2,
   "metadata": {},
   "outputs": [
    {
     "name": "stdout",
     "output_type": "stream",
     "text": [
      "Updating Order saved\n"
     ]
    }
   ],
   "source": [
    "order = OrderReport()\n",
    "order.save_order()"
   ]
  },
  {
   "cell_type": "markdown",
   "metadata": {},
   "source": [
    "Strategy"
   ]
  },
  {
   "cell_type": "code",
   "execution_count": 3,
   "metadata": {},
   "outputs": [],
   "source": [
    "from abc import ABC, abstractmethod\n",
    "\n",
    "class Database(ABC):\n",
    "    @abstractmethod\n",
    "    def insert(self, query):\n",
    "        raise NotImplementedError\n",
    "\n",
    "    @abstractmethod\n",
    "    def update(self, query):\n",
    "        raise NotImplementedError\n",
    "\n",
    "    @abstractmethod\n",
    "    def delete(self, query):\n",
    "        raise NotImplementedError"
   ]
  },
  {
   "cell_type": "code",
   "execution_count": 4,
   "metadata": {},
   "outputs": [],
   "source": [
    "class PostgresSQLDatabase(Database):\n",
    "    def insert(self, query):\n",
    "        print(f\"Inserting {query} in PostgressSQL\")\n",
    "\n",
    "    def update(self, query):\n",
    "        print(f\"Updating {query} in PostgressSQL\")\n",
    "\n",
    "    def delete(self, query):\n",
    "        print(f\"Deleting {query} in PostgressSQL\")\n",
    "\n",
    "class MySQL(Database):\n",
    "    def insert(self, query):\n",
    "        print(f\"Inserting {query} in MySQL\")\n",
    "\n",
    "    def update(self, query):\n",
    "        print(f\"Updating {query} in MySQL\")\n",
    "\n",
    "    def delete(self, query):\n",
    "        print(f\"Deleting {query} in MySQL\")\n",
    "\n",
    "class OrderReport:\n",
    "    def __init__(self, database: Database):\n",
    "        self.__database = database\n",
    "\n",
    "    def generate_new_order(self):\n",
    "        self.__database.insert(\"New order\")\n",
    "\n",
    "    def save_order(self):\n",
    "        self.__database.update(\"Order saved\")"
   ]
  },
  {
   "cell_type": "code",
   "execution_count": 5,
   "metadata": {},
   "outputs": [
    {
     "name": "stdout",
     "output_type": "stream",
     "text": [
      "Inserting New order in PostgressSQL\n"
     ]
    }
   ],
   "source": [
    "order = OrderReport(PostgresSQLDatabase())\n",
    "order.generate_new_order()"
   ]
  },
  {
   "cell_type": "code",
   "execution_count": 6,
   "metadata": {},
   "outputs": [
    {
     "name": "stdout",
     "output_type": "stream",
     "text": [
      "Updating Order saved in MySQL\n"
     ]
    }
   ],
   "source": [
    "order2 = OrderReport(MySQL())\n",
    "order2.save_order()"
   ]
  }
 ],
 "metadata": {
  "kernelspec": {
   "display_name": "Python 3",
   "language": "python",
   "name": "python3"
  },
  "language_info": {
   "codemirror_mode": {
    "name": "ipython",
    "version": 3
   },
   "file_extension": ".py",
   "mimetype": "text/x-python",
   "name": "python",
   "nbconvert_exporter": "python",
   "pygments_lexer": "ipython3",
   "version": "3.12.0"
  }
 },
 "nbformat": 4,
 "nbformat_minor": 2
}
