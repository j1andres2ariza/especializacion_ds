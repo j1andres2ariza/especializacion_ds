{
 "cells": [
  {
   "cell_type": "markdown",
   "metadata": {},
   "source": [
    "# Encapsulación a nivel del método\n",
    "\n",
    "- Estás creando un sitio web de comercio electrónico.\n",
    "- Hay un método `ObtenerTotaldelPedido` que calcula un total del pedido, impuestos incluidos.\n",
    "- Podemos anticipar que el código relacionado con los impuestos tendrá que cambiar en el futuro.\n",
    "- La tasa dependerá de cada país, departamento, o incluso ciudad en la que resida el cliente, y la fórmula puede variar a lo largo del tiempo con base a nuevas leyes o regulaciones.\n",
    "- Esto hará que tengas que cambiar el método `ObtenerTotaldelPedido` menudo\n",
    "- Pero, incluso el nombre del método sugiere que no le importa cómo se calcula el impuesto."
   ]
  },
  {
   "cell_type": "markdown",
   "metadata": {},
   "source": [
    "**ANTES:**\n",
    "El código de cálculo del impuesto está mezclado con el resto del código del método."
   ]
  },
  {
   "cell_type": "code",
   "execution_count": 4,
   "metadata": {},
   "outputs": [],
   "source": [
    "def get_order_total(order: dict) -> float:\n",
    "    total = 0\n",
    "    for item in order[\"items\"]:\n",
    "        total += item['price'] * item['quantity']\n",
    "\n",
    "    if order[\"country\"] == \"USA\":\n",
    "        total += total * 0.07  # Impuesto de Estados Unidos\n",
    "    elif order[\"country\"] == \"COL\":\n",
    "        total += total * 0.19  # Impuesto de Colombia\n",
    "\n",
    "    return total"
   ]
  },
  {
   "cell_type": "code",
   "execution_count": 8,
   "metadata": {},
   "outputs": [
    {
     "name": "stdout",
     "output_type": "stream",
     "text": [
      "Expected: 374.5\n",
      "374.5\n"
     ]
    }
   ],
   "source": [
    "data_order = {\n",
    "    \"items\": [\n",
    "        {\"price\": 100, \"quantity\": 2},\n",
    "        {\"price\": 50, \"quantity\": 3}\n",
    "    ],\n",
    "    \"country\": \"USA\"\n",
    "}\n",
    "# Cálculo\n",
    "value = 100*2 + 50*3 + (100*2 + 50*3)*0.07\n",
    "print(\"Expected:\", value)\n",
    "print(get_order_total(data_order))"
   ]
  },
  {
   "cell_type": "code",
   "execution_count": 9,
   "metadata": {},
   "outputs": [
    {
     "name": "stdout",
     "output_type": "stream",
     "text": [
      "Expected: 416.5\n",
      "416.5\n"
     ]
    }
   ],
   "source": [
    "data_order_col = {\n",
    "    \"items\": [\n",
    "        {\"price\": 100, \"quantity\": 2},\n",
    "        {\"price\": 50, \"quantity\": 3}\n",
    "    ],\n",
    "    \"country\": \"COL\"\n",
    "}\n",
    "# Cálculo\n",
    "value = 100*2 + 50*3 + (100*2 + 50*3)*0.19\n",
    "print(\"Expected:\", value)\n",
    "print(get_order_total(data_order_col))"
   ]
  },
  {
   "cell_type": "markdown",
   "metadata": {},
   "source": [
    "Puedes extraer la lógica de cálculo del impuesto a un método separado, escondiéndolo del método original.\n",
    "**DESPUÉS:** Puedes obtener la tasa impositiva invocando un método designado."
   ]
  },
  {
   "cell_type": "code",
   "execution_count": 12,
   "metadata": {},
   "outputs": [],
   "source": [
    "def get_tax_rate(country: str) -> float:\n",
    "    if country == \"USA\":\n",
    "        return 0.07\n",
    "    elif country == \"COL\":\n",
    "        return 0.19\n",
    "    else:\n",
    "        return 0\n",
    "\n",
    "\n",
    "def get_order_total(order: dict) -> float:\n",
    "    total = 0\n",
    "    for item in order[\"items\"]:\n",
    "        total += item['price'] * item['quantity']\n",
    "\n",
    "    total += total * get_tax_rate(country=order[\"country\"])\n",
    "    return total"
   ]
  },
  {
   "cell_type": "markdown",
   "metadata": {},
   "source": [
    "Los cambios relacionados con el impuesto quedan aislados dentro de un único método. Además, si la lógica de cálculo del impuesto se complica demasiado, ahora es más sencillo moverla a una clase separada."
   ]
  },
  {
   "cell_type": "markdown",
   "metadata": {},
   "source": []
  },
  {
   "cell_type": "code",
   "execution_count": 13,
   "metadata": {},
   "outputs": [
    {
     "name": "stdout",
     "output_type": "stream",
     "text": [
      "Expected: 374.5\n",
      "374.5\n"
     ]
    }
   ],
   "source": [
    "data_order = {\n",
    "    \"items\": [\n",
    "        {\"price\": 100, \"quantity\": 2},\n",
    "        {\"price\": 50, \"quantity\": 3}\n",
    "    ],\n",
    "    \"country\": \"USA\"\n",
    "}\n",
    "# Cálculo\n",
    "value = 100*2 + 50*3 + (100*2 + 50*3)*0.07\n",
    "print(\"Expected:\", value)\n",
    "print(get_order_total(data_order))"
   ]
  },
  {
   "cell_type": "code",
   "execution_count": 14,
   "metadata": {},
   "outputs": [
    {
     "name": "stdout",
     "output_type": "stream",
     "text": [
      "Expected: 416.5\n",
      "416.5\n"
     ]
    }
   ],
   "source": [
    "data_order_col = {\n",
    "    \"items\": [\n",
    "        {\"price\": 100, \"quantity\": 2},\n",
    "        {\"price\": 50, \"quantity\": 3}\n",
    "    ],\n",
    "    \"country\": \"COL\"\n",
    "}\n",
    "# Cálculo\n",
    "value = 100*2 + 50*3 + (100*2 + 50*3)*0.19\n",
    "print(\"Expected:\", value)\n",
    "print(get_order_total(data_order_col))"
   ]
  }
 ],
 "metadata": {
  "kernelspec": {
   "display_name": ".venv",
   "language": "python",
   "name": "python3"
  },
  "language_info": {
   "codemirror_mode": {
    "name": "ipython",
    "version": 3
   },
   "file_extension": ".py",
   "mimetype": "text/x-python",
   "name": "python",
   "nbconvert_exporter": "python",
   "pygments_lexer": "ipython3",
   "version": "3.11.7"
  }
 },
 "nbformat": 4,
 "nbformat_minor": 2
}
