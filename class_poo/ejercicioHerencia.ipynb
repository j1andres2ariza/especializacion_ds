{
 "cells": [
  {
   "cell_type": "code",
   "execution_count": 29,
   "metadata": {},
   "outputs": [],
   "source": [
    "class Instrumentos:\n",
    "    def __init__(self, nombre: str, tipo: str):\n",
    "        self.nombre = nombre\n",
    "        self.tipo = tipo\n",
    "\n",
    "    def afinar(self) -> None:\n",
    "        #Metodo en blanco\n",
    "        pass\n",
    "\n",
    "    def tocar(self) -> None:\n",
    "        #Metodo en blanco\n",
    "        pass\n",
    "\n",
    "    def hacer_mantenimiento(self) -> None:\n",
    "        #Metodo en blanco\n",
    "        pass\n",
    "\n",
    "    def estado(self) -> None:\n",
    "        #Metodo en blanco\n",
    "        pass\n",
    "\n",
    "    def ver_datos(self) -> None:\n",
    "        print(f\"Nombre: {self.nombre}\")\n",
    "        print(f\"Tipo: {self.tipo}\")\n",
    "\n"
   ]
  },
  {
   "cell_type": "markdown",
   "metadata": {},
   "source": [
    "Creando clases hijas"
   ]
  },
  {
   "cell_type": "code",
   "execution_count": 30,
   "metadata": {},
   "outputs": [],
   "source": [
    "class Guitarra(Instrumentos):\n",
    "    def __init__(self, nombre: str, tipo: str, cuerdas: int) -> None:\n",
    "        super().__init__(nombre, tipo)\n",
    "        self.cuerdas = cuerdas\n",
    "\n",
    "    def __init__(self, nombre: str, tipo: str, cuerdas: int):\n",
    "        self.nombre = nombre\n",
    "        self.tipo = tipo\n",
    "        self.cuerdas = cuerdas\n",
    "\n",
    "    def afinar(self) -> None:\n",
    "        print(\"Afinando la guitarra\")\n",
    "\n",
    "    def tocar(self) -> None:\n",
    "        print(\"Tocando la guitarra\")\n",
    "\n",
    "    def hacer_mantenimiento(self) -> None:\n",
    "        print(\"Haciendo mantenimiento a la guitarra\")\n",
    "\n",
    "    def estado(self) -> None:\n",
    "        print(\"La guitarra esta en buen estado\")\n",
    "\n",
    "class Violin(Instrumentos):\n",
    "    def __init__(self, nombre: str, tipo: str, cuerdas: int) -> None:\n",
    "        super().__init__(nombre, tipo)\n",
    "        self.cuerdas = cuerdas\n",
    "\n",
    "    def __init__(self, nombre: str, tipo: str, cuerdas: int):\n",
    "        self.nombre = nombre\n",
    "        self.tipo = tipo\n",
    "        self.cuerdas = cuerdas\n",
    "\n",
    "    def afinar(self) -> None:\n",
    "        print(\"Afinando el violin\")\n",
    "\n",
    "    def tocar(self) -> None:\n",
    "        print(\"Tocando el violin\")\n",
    "\n",
    "    def hacer_mantenimiento(self) -> None:\n",
    "        print(\"Haciendo mantenimiento al violin\")\n",
    "\n",
    "    def estado(self) -> None:\n",
    "        print(\"El violin esta en buen estado\")\n",
    "\n"
   ]
  },
  {
   "cell_type": "code",
   "execution_count": 31,
   "metadata": {},
   "outputs": [
    {
     "name": "stdout",
     "output_type": "stream",
     "text": [
      "Afinando la guitarra\n",
      "guitar\n",
      "Nombre: guitar\n",
      "Tipo: acustica\n"
     ]
    }
   ],
   "source": [
    "instrumento = Guitarra(\"guitar\", \"acustica\", 6)\n",
    "instrumento.afinar()\n",
    "print(instrumento.nombre)\n",
    "\n",
    "instrumento.ver_datos()\n"
   ]
  },
  {
   "cell_type": "code",
   "execution_count": 32,
   "metadata": {},
   "outputs": [
    {
     "name": "stdout",
     "output_type": "stream",
     "text": [
      "(<class 'object'>,)\n",
      "[]\n",
      "(<class '__main__.Guitarra'>, <class 'object'>)\n"
     ]
    }
   ],
   "source": [
    "class Guitarra:\n",
    "    pass\n",
    "class Violin:\n",
    "    pass\n",
    "\n",
    "print(Violin.__bases__)\n",
    "print(Guitarra.__subclasses__())\n",
    "print(Guitarra.__mro__)"
   ]
  },
  {
   "cell_type": "code",
   "execution_count": 44,
   "metadata": {},
   "outputs": [],
   "source": [
    "class funciona:\n",
    "    def breathe() -> None:\n",
    "        pass\n",
    "\n",
    "\n",
    "class enviar:\n",
    "    def run(self, destination: str) -> None:\n",
    "        pass\n"
   ]
  },
  {
   "cell_type": "code",
   "execution_count": 50,
   "metadata": {},
   "outputs": [],
   "source": [
    "class guitarra(Instrumentos, funciona, enviar):\n",
    "    def __init__(self, nombre: str, tipo: str, cuerdas: int) -> None:\n",
    "        super().__init__(nombre, tipo)\n",
    "        self.cuerdas = cuerdas\n",
    "\n",
    "    def breathe(self) -> str:\n",
    "        text = f\"El instrumento {self.nombre} funciona\"\n",
    "        return text\n",
    "\n",
    "    def run(self, destination: str) -> None:\n",
    "        print(f\"El instrumento {self.nnombre} será enviado a: {destination}\")"
   ]
  }
 ],
 "metadata": {
  "kernelspec": {
   "display_name": "Python 3",
   "language": "python",
   "name": "python3"
  },
  "language_info": {
   "codemirror_mode": {
    "name": "ipython",
    "version": 3
   },
   "file_extension": ".py",
   "mimetype": "text/x-python",
   "name": "python",
   "nbconvert_exporter": "python",
   "pygments_lexer": "ipython3",
   "version": "3.12.0"
  }
 },
 "nbformat": 4,
 "nbformat_minor": 2
}
