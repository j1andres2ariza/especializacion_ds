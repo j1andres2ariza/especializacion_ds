{
 "cells": [
  {
   "cell_type": "code",
   "execution_count": null,
   "metadata": {},
   "outputs": [],
   "source": [
    "class Instrumentos:\n",
    "    pass\n",
    "\n",
    "\n",
    "class Guitarra(Instrumentos):"
   ]
  }
 ],
 "metadata": {
  "language_info": {
   "name": "python"
  }
 },
 "nbformat": 4,
 "nbformat_minor": 2
}
