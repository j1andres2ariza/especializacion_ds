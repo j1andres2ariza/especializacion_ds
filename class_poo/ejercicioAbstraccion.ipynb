{
 "cells": [
  {
   "cell_type": "markdown",
   "metadata": {},
   "source": [
    "# Ejercicio"
   ]
  },
  {
   "cell_type": "markdown",
   "metadata": {},
   "source": [
    "### Venta de dispositivos moviles para uso empresarial"
   ]
  },
  {
   "cell_type": "code",
   "execution_count": 38,
   "metadata": {},
   "outputs": [],
   "source": [
    "class Instrumentos:\n",
    "    def __init__(self, estado: str, color: str, price: float, uso: str) -> None:\n",
    "        self.estado = estado\n",
    "        self.color = color\n",
    "        self.price = price\n",
    "        self.uso = uso\n",
    "\n",
    "\n",
    "    def vender(self) -> None:\n",
    "        print(f\"El precio del instrumento es: {self.price} pesos\")\n",
    "\n",
    "    def __str__(self) -> str:\n",
    "        return f\"{self.estado} A, {self.color} mate, $ {self.price} , para {self.uso}\""
   ]
  },
  {
   "cell_type": "code",
   "execution_count": 39,
   "metadata": {},
   "outputs": [
    {
     "name": "stdout",
     "output_type": "stream",
     "text": [
      "Nuevo A, Rojo mate, $ 500000 , para Practica\n",
      "El precio del instrumento es: 500000 pesos\n"
     ]
    }
   ],
   "source": [
    "instrumento = Instrumentos(estado= \"Nuevo\", color=\"Rojo\", price=500000, uso=\"Practica\")\n",
    "print(instrumento)\n",
    "instrumento.vender()"
   ]
  },
  {
   "cell_type": "markdown",
   "metadata": {},
   "source": [
    "### Dispositivos móvimes para gamers"
   ]
  },
  {
   "cell_type": "code",
   "execution_count": 34,
   "metadata": {},
   "outputs": [],
   "source": [
    "class InstrumentosElectronicos:\n",
    "    def __init__(self, estado: str) -> None:\n",
    "        self.estado = estado\n",
    "\n",
    "    def capacidad_electrica(self, capacidad: int) -> None:\n",
    "        print(f\"La capacidad eléctrica máxima es de {capacidad} para el dispositivo\")\n",
    "\n",
    "    def validate_status(self, estado: str) -> None:\n",
    "        if not self.validate_status(estado):\n",
    "            print(f\"Si el estado es {estado} está permitido\")\n",
    "            return\n",
    "        print(f\"El dispositivo está {estado} no entra en la categoría de usp conciertos\")\n",
    "\n",
    "    def __str__(self) -> str:\n",
    "        return f\"{self.estado} A\""
   ]
  },
  {
   "cell_type": "code",
   "execution_count": 37,
   "metadata": {},
   "outputs": [
    {
     "name": "stdout",
     "output_type": "stream",
     "text": [
      "Nuevo A\n",
      "La capacidad eléctrica máxima es de 110 para el dispositivo\n"
     ]
    }
   ],
   "source": [
    "instrumento_electronico = InstrumentosElectronicos(estado=\"Nuevo\")\n",
    "print(instrumento_electronico)\n",
    "instrumento_electronico.capacidad_electrica(110)\n",
    "\n"
   ]
  }
 ],
 "metadata": {
  "kernelspec": {
   "display_name": "Python 3",
   "language": "python",
   "name": "python3"
  },
  "language_info": {
   "codemirror_mode": {
    "name": "ipython",
    "version": 3
   },
   "file_extension": ".py",
   "mimetype": "text/x-python",
   "name": "python",
   "nbconvert_exporter": "python",
   "pygments_lexer": "ipython3",
   "version": "3.12.0"
  }
 },
 "nbformat": 4,
 "nbformat_minor": 2
}
