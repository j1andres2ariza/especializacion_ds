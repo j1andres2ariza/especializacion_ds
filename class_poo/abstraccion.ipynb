{
 "cells": [
  {
   "cell_type": "markdown",
   "metadata": {},
   "source": [
    "# Abstracción"
   ]
  },
  {
   "cell_type": "markdown",
   "metadata": {},
   "source": [
    "## Simulación de vuelo"
   ]
  },
  {
   "cell_type": "code",
   "execution_count": 1,
   "metadata": {},
   "outputs": [],
   "source": [
    "class AirPlane:\n",
    "    def __init__(self, speed: int, altitude: int, roll_angle: int, pitch_angle: int, yaw_angle: int) -> None:\n",
    "        self.speed = speed\n",
    "        self.altitude = altitude\n",
    "        self.roll_angle = roll_angle\n",
    "        self.pitch_angle = pitch_angle\n",
    "        self.yaw_angle = yaw_angle\n",
    "\n",
    "    def fly(self) -> None:\n",
    "        print(f\"Airplane is flying at {self.speed} km/h\")\n",
    "\n",
    "    def __str__(self) -> str:\n",
    "        return f\"{self.speed} km/h, {self.altitude} m, {self.roll_angle}°, {self.pitch_angle}°, {self.yaw_angle}°\""
   ]
  },
  {
   "cell_type": "code",
   "execution_count": 2,
   "metadata": {},
   "outputs": [
    {
     "name": "stdout",
     "output_type": "stream",
     "text": [
      "900 km/h, 10000 m, 0°, 0°, 0°\n",
      "Airplane is flying at 900 km/h\n"
     ]
    }
   ],
   "source": [
    "air_plane = AirPlane(speed=900, altitude=10000, roll_angle=0, pitch_angle=0, yaw_angle=0)\n",
    "print(air_plane)\n",
<<<<<<< HEAD
    "air_plane.fly()\n",
<<<<<<< HEAD
    "#air_plane.samu()"
=======
    "air_plane.samu()"
>>>>>>> c006ca2220ebf77fe03c22539c41b7bc22c1320f
=======
    "air_plane.fly()"
   ]
  },
  {
   "cell_type": "code",
   "execution_count": 3,
   "metadata": {},
   "outputs": [
    {
     "ename": "AttributeError",
     "evalue": "'AirPlane' object has no attribute 'run'",
     "output_type": "error",
     "traceback": [
      "\u001b[0;31m---------------------------------------------------------------------------\u001b[0m",
      "\u001b[0;31mAttributeError\u001b[0m                            Traceback (most recent call last)",
      "Cell \u001b[0;32mIn[3], line 1\u001b[0m\n\u001b[0;32m----> 1\u001b[0m \u001b[43mair_plane\u001b[49m\u001b[38;5;241;43m.\u001b[39;49m\u001b[43mrun\u001b[49m()\n",
      "\u001b[0;31mAttributeError\u001b[0m: 'AirPlane' object has no attribute 'run'"
     ]
    }
   ],
   "source": [
    "air_plane.run()"
>>>>>>> 163b67d7251cbeb0c9c61c8c067bdceb485d4202
   ]
  },
  {
   "cell_type": "markdown",
   "metadata": {},
   "source": [
    "## Reserva de vuelo"
   ]
  },
  {
   "cell_type": "code",
<<<<<<< HEAD
   "execution_count": 35,
=======
   "execution_count": 10,
>>>>>>> 163b67d7251cbeb0c9c61c8c067bdceb485d4202
   "metadata": {},
   "outputs": [],
   "source": [
    "class AirPlane:\n",
    "    def __init__(self, seats: int, is_vip: bool) -> None:\n",
    "        self.seats = seats\n",
    "        self.is_visible = is_vip\n",
    "\n",
    "    def reserve_seat(self, seat_number: int) -> None:\n",
    "        if not self.validate_seat(seat_number):\n",
    "            print(f\"Seat number {seat_number} is not valid\")\n",
    "            return\n",
    "        print(f\"Seat number {seat_number} is reserved\")\n",
    "\n",
<<<<<<< HEAD
    "    def validate_seat(self, seat_number: int) -> None:\n",
    "        if not self.validate_seat(seat_number):\n",
    "            print(\"Seat number {seat_number} is not valid\")\n",
    "            return\n",
    "        print(f\"Seat number {seat_number} is reserved\")\n",
=======
    "    def validate_seat(self, seat_number: int) -> bool:\n",
    "        return seat_number <= self.seats\n",
    "\n",
    "    def get_price(self, seat_number: int) -> float:\n",
    "        if 0 < seat_number <= self.seats // 2:\n",
    "            return 100.0\n",
    "        return 200.0\n",
>>>>>>> 163b67d7251cbeb0c9c61c8c067bdceb485d4202
    "\n",
    "    def __str__(self) -> str:\n",
    "        return f\"{self.seats} seats\""
   ]
  },
  {
   "cell_type": "code",
<<<<<<< HEAD
   "execution_count": 24,
=======
   "execution_count": 11,
>>>>>>> 163b67d7251cbeb0c9c61c8c067bdceb485d4202
   "metadata": {},
   "outputs": [
    {
     "name": "stdout",
     "output_type": "stream",
     "text": [
      "150 seats\n",
      "Seat number (seat_number) is reserved\n"
     ]
    }
   ],
   "source": [
    "air_plane = AirPlane(seats=150)\n",
    "print(air_plane)\n",
    "air_plane.reserve_seat(10)"
   ]
  },
  {
   "cell_type": "code",
<<<<<<< HEAD
   "execution_count": null,
   "metadata": {},
   "outputs": [],
   "source": [
    "air_plane.reserve_seat(180)\n",
    "air_plane.validate_seat()"
=======
   "execution_count": 13,
   "metadata": {},
   "outputs": [
    {
     "data": {
      "text/plain": [
       "200.0"
      ]
     },
     "execution_count": 13,
     "metadata": {},
     "output_type": "execute_result"
    }
   ],
   "source": [
    "air_plane.get_price(120)"
   ]
  },
  {
   "cell_type": "code",
   "execution_count": 9,
   "metadata": {},
   "outputs": [
    {
     "name": "stdout",
     "output_type": "stream",
     "text": [
      "Seat number 200 is not valid\n"
     ]
    }
   ],
   "source": [
    "air_plane.reserve_seat(200)"
>>>>>>> 163b67d7251cbeb0c9c61c8c067bdceb485d4202
   ]
  }
 ],
 "metadata": {
  "kernelspec": {
   "display_name": ".venv",
   "language": "python",
   "name": "python3"
  },
  "language_info": {
   "codemirror_mode": {
    "name": "ipython",
    "version": 3
   },
   "file_extension": ".py",
   "mimetype": "text/x-python",
   "name": "python",
   "nbconvert_exporter": "python",
   "pygments_lexer": "ipython3",
<<<<<<< HEAD
   "version": "3.11.1"
=======
   "version": "3.11.7"
>>>>>>> c006ca2220ebf77fe03c22539c41b7bc22c1320f
  }
 },
 "nbformat": 4,
 "nbformat_minor": 2
}
