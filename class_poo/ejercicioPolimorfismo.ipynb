{
 "cells": [
  {
   "cell_type": "markdown",
   "metadata": {},
   "source": [
    "# Ejercicio polimorfismo"
   ]
  },
  {
   "cell_type": "code",
   "execution_count": 1,
   "metadata": {},
   "outputs": [],
   "source": [
    "class Instrumentos:\n",
    "    def mantenimiento(self):\n",
    "        pass\n",
    "\n",
    "    def afinar(self):\n",
    "        pass\n",
    "\n",
    "class Guitarra(Instrumentos):\n",
    "    def mantenimiento(self):\n",
    "        print(\"Ajustar cuerdas de la guitarra\")\n",
    "\n",
    "    def afinar(self):\n",
    "        print(\"Afinar cuerdas de la guitarra\")\n",
    "\n",
    "class Violin(Instrumentos):\n",
    "    def mantenimiento(self):\n",
    "        print(\"Ajustar cuerdas del violín\")\n",
    "\n",
    "    def afinar(self):\n",
    "        print(\"Afinar cuerdas del violín\")\n"
   ]
  },
  {
   "cell_type": "code",
   "execution_count": 2,
   "metadata": {},
   "outputs": [
    {
     "name": "stdout",
     "output_type": "stream",
     "text": [
      "Ajustar cuerdas de la guitarra\n",
      "Ajustar cuerdas del violín\n"
     ]
    }
   ],
   "source": [
    "for instrumentos in Guitarra(), Violin():\n",
    "    instrumentos.mantenimiento()"
   ]
  }
 ],
 "metadata": {
  "kernelspec": {
   "display_name": "Python 3",
   "language": "python",
   "name": "python3"
  },
  "language_info": {
   "codemirror_mode": {
    "name": "ipython",
    "version": 3
   },
   "file_extension": ".py",
   "mimetype": "text/x-python",
   "name": "python",
   "nbconvert_exporter": "python",
   "pygments_lexer": "ipython3",
   "version": "3.12.0"
  }
 },
 "nbformat": 4,
 "nbformat_minor": 2
}
