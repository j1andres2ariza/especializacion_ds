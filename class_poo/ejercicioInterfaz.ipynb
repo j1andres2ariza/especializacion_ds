{
 "cells": [
  {
   "cell_type": "markdown",
   "metadata": {},
   "source": [
    "## Ejercicio Herencia"
   ]
  },
  {
   "cell_type": "code",
   "execution_count": 9,
   "metadata": {},
   "outputs": [],
   "source": [
    "from abc import ABC, abstractmethod\n",
    "\n",
    "\n",
    "class Instrumentos(ABC):\n",
    "    @abstractmethod\n",
    "    def afinar(self) -> None:\n",
    "        pass\n",
    "\n",
    "    @abstractmethod\n",
    "    def tocar(self) -> None:\n",
    "        pass\n",
    "\n",
    "    @abstractmethod\n",
    "    def hacer_mantenimiento(self) -> None:\n",
    "        pass\n",
    "\n"
   ]
  },
  {
   "cell_type": "markdown",
   "metadata": {},
   "source": [
    "Ahora creo las clases que implementarán la interfaz"
   ]
  },
  {
   "cell_type": "markdown",
   "metadata": {},
   "source": [
    "Clase 1"
   ]
  },
  {
   "cell_type": "code",
   "execution_count": 10,
   "metadata": {},
   "outputs": [],
   "source": [
    "class guitarra(Instrumentos):\n",
    "    def afinar(self) -> None:\n",
    "        print(\"afinando la guitarra\")\n",
    "\n",
    "    def tocar(self) -> None:\n",
    "        print(\"tocando la guitarra\")\n",
    "\n",
    "    def hacer_mantenimiento(self) -> None:\n",
    "        print(\"Llevando la guitarra a mantenimiento\")"
   ]
  },
  {
   "cell_type": "code",
   "execution_count": 11,
   "metadata": {},
   "outputs": [
    {
     "name": "stdout",
     "output_type": "stream",
     "text": [
      "tocando la guitarra\n"
     ]
    }
   ],
   "source": [
    "instrumento = guitarra()\n",
    "instrumento.tocar()"
   ]
  },
  {
   "cell_type": "markdown",
   "metadata": {},
   "source": [
    "Clase 2"
   ]
  },
  {
   "cell_type": "code",
   "execution_count": 12,
   "metadata": {},
   "outputs": [],
   "source": [
    "class violin(Instrumentos):\n",
    "    def afinar(self) -> None:\n",
    "        print(\"afinando el violin\")\n",
    "\n",
    "    def tocar(self) -> None:\n",
    "        print(\"tocando el violin\")\n",
    "\n",
    "    def hacer_mantenimiento(self) -> None:\n",
    "        print(\"llevando el violin a mantenimiento\")"
   ]
  },
  {
   "cell_type": "code",
   "execution_count": 13,
   "metadata": {},
   "outputs": [
    {
     "name": "stdout",
     "output_type": "stream",
     "text": [
      "llevando el violin a mantenimiento\n"
     ]
    }
   ],
   "source": [
    "instrumento = violin()\n",
    "instrumento.hacer_mantenimiento()"
   ]
  },
  {
   "cell_type": "markdown",
   "metadata": {},
   "source": [
    "Desde las clases se le agrego código a los métodos de la interface quyé no lo tenían."
   ]
  }
 ],
 "metadata": {
  "kernelspec": {
   "display_name": "Python 3",
   "language": "python",
   "name": "python3"
  },
  "language_info": {
   "codemirror_mode": {
    "name": "ipython",
    "version": 3
   },
   "file_extension": ".py",
   "mimetype": "text/x-python",
   "name": "python",
   "nbconvert_exporter": "python",
   "pygments_lexer": "ipython3",
   "version": "3.12.0"
  }
 },
 "nbformat": 4,
 "nbformat_minor": 2
}
