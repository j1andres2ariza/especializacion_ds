{
 "cells": [
  {
   "cell_type": "markdown",
   "metadata": {},
   "source": [
    "# Ejercicio de encapsulamiento"
   ]
  },
  {
   "cell_type": "code",
   "execution_count": 4,
   "metadata": {},
   "outputs": [],
   "source": [
    "from abc import ABC, abstractmethod\n",
    "\n",
    "class InstrumentosAcusticos(ABC):\n",
    "    @abstractmethod\n",
    "    def acustica(self, marca: str, estado: str, precio: float) -> None:\n",
    "        pass\n",
    "\n",
    "\n",
    "class Guitarra(InstrumentosAcusticos):\n",
    "    def acustica(self, marca: str, estado: str, precio: float) -> None:\n",
    "        pass\n",
    "        print(f\"La guitarra de marca {marca} se encuentra en estado {estado} y tiene un valor de {precio}\")\n",
    "\n",
    "class Violin(InstrumentosAcusticos):\n",
    "    def acustica(self, marca: str, estado: str, precio: float) -> None:\n",
    "        pass\n",
    "        print(f\"El violin de marca {marca} se encuentra en estado {estado} y tiene un valor de {precio}\")\n",
    "\n",
    "class Percusion(InstrumentosAcusticos):\n",
    "    def acustica(self, marca: str, estado: str, precio: float) -> None:\n",
    "        pass\n",
    "        print(f\"El instrumento de percusion de marca {marca} se encuentra en estado {estado} y tiene un valor de {precio}\")\n",
    "\n",
    "class Tienda:\n",
    "    def vender(self, instrumento: InstrumentosAcusticos) -> None:\n",
    "        instrumento.acustica(\"Yamaha\", \"nuevo\", 1000)"
   ]
  },
  {
   "cell_type": "code",
   "execution_count": 6,
   "metadata": {},
   "outputs": [
    {
     "name": "stdout",
     "output_type": "stream",
     "text": [
      "La guitarra de marca Yamaha se encuentra en estado nuevo y tiene un valor de 1000\n",
      "None\n",
      "El violin de marca Yamaha se encuentra en estado nuevo y tiene un valor de 1000\n",
      "None\n",
      "El instrumento de percusion de marca Yamaha se encuentra en estado nuevo y tiene un valor de 1000\n",
      "None\n"
     ]
    }
   ],
   "source": [
    "tienda = Tienda()\n",
    "guitar = Guitarra()\n",
    "violin = Violin()\n",
    "percusion = Percusion()\n",
    "\n",
    "print(tienda.vender(guitar))\n",
    "print(tienda.vender(violin))\n",
    "print(tienda.vender(percusion))"
   ]
  }
 ],
 "metadata": {
  "kernelspec": {
   "display_name": "Python 3",
   "language": "python",
   "name": "python3"
  },
  "language_info": {
   "codemirror_mode": {
    "name": "ipython",
    "version": 3
   },
   "file_extension": ".py",
   "mimetype": "text/x-python",
   "name": "python",
   "nbconvert_exporter": "python",
   "pygments_lexer": "ipython3",
   "version": "3.12.0"
  }
 },
 "nbformat": 4,
 "nbformat_minor": 2
}
